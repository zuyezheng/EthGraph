{
 "cells": [
  {
   "cell_type": "code",
   "execution_count": 1,
   "metadata": {},
   "outputs": [],
   "source": [
    "# setup spark for processing transactions\n",
    "\n",
    "import findspark\n",
    "import pyspark\n",
    "from pyspark.context import SparkContext\n",
    "from pyspark.sql.session import SparkSession\n",
    "\n",
    "findspark.init()\n",
    "spark_conf = pyspark.SparkConf()\\\n",
    "    .setMaster('local[*]')\\\n",
    "    .set('spark.local.dir', '/scratch/spark')\\\n",
    "    .set('spark.driver.memory', '100g')\\\n",
    "    .setAppName('eth')\n",
    "\n",
    "spark_context = SparkContext(conf=spark_conf)\n",
    "spark_session = SparkSession(spark_context)"
   ]
  },
  {
   "cell_type": "code",
   "execution_count": null,
   "metadata": {},
   "outputs": [],
   "source": []
  },
  {
   "cell_type": "code",
   "execution_count": 2,
   "metadata": {},
   "outputs": [],
   "source": [
    "from src.EthTransactions import EthTransactions, TimeSpan, DataFrameFormat\n",
    "\n",
    "# load transdactions exported from ethereum-etl\n",
    "eth_transactions = EthTransactions(spark_session, '/ssd_raid/eth/etl/transactions.csv')\n",
    "\n",
    "# process transactions per day\n",
    "eth_transactions.top_transactions(500, TimeSpan.DAY, 'data/transactions/top_daily', DataFrameFormat.PARQUET)\n",
    "eth_transactions.stats(TimeSpan.DAY, 'data/transactions/stats_daily', DataFrameFormat.PARQUET)\n",
    "\n",
    "# process transactions per hour\n",
    "eth_transactions.top_transactions(500, TimeSpan.HOUR, 'data/transactions/top_hourly', DataFrameFormat.PARQUET)\n",
    "eth_transactions.stats(TimeSpan.HOUR, 'data/transactions/stats_hourly', DataFrameFormat.PARQUET)"
   ]
  },
  {
   "cell_type": "code",
   "execution_count": null,
   "metadata": {},
   "outputs": [],
   "source": []
  }
 ],
 "metadata": {
  "kernelspec": {
   "display_name": "tf2.5",
   "language": "python",
   "name": "tf2.5"
  },
  "language_info": {
   "codemirror_mode": {
    "name": "ipython",
    "version": 3
   },
   "file_extension": ".py",
   "mimetype": "text/x-python",
   "name": "python",
   "nbconvert_exporter": "python",
   "pygments_lexer": "ipython3",
   "version": "3.8.3"
  }
 },
 "nbformat": 4,
 "nbformat_minor": 4
}
