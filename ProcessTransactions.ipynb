{
 "cells": [
  {
   "cell_type": "code",
   "execution_count": 1,
   "metadata": {},
   "outputs": [],
   "source": [
    "# setup spark for processing transactions\n",
    "import findspark\n",
    "import pyspark\n",
    "from pyspark.context import SparkContext\n",
    "from pyspark.sql.session import SparkSession\n",
    "\n",
    "findspark.init()\n",
    "spark_conf = pyspark.SparkConf()\\\n",
    "    .setMaster('local[*]')\\\n",
    "    .set('spark.local.dir', '/mnt/scratch_a/spark,/mnt/scratch_b/spark,/mnt/scratch_c/spark')\\\n",
    "    .set('spark.driver.memory', '100g')\\\n",
    "    .setAppName('eth')\n",
    "\n",
    "spark_context = SparkContext(conf=spark_conf)\n",
    "spark_session = SparkSession(spark_context)"
   ]
  },
  {
   "cell_type": "code",
   "execution_count": null,
   "metadata": {},
   "outputs": [],
   "source": []
  },
  {
   "cell_type": "code",
   "execution_count": 2,
   "metadata": {},
   "outputs": [],
   "source": [
    "# load and aggregate some prices\n",
    "from src.TimeSpan import TimeSpan\n",
    "from src.PricesData import PricesData\n",
    "\n",
    "prices = PricesData('data/prices_eth_5m.csv', TimeSpan.DAY)"
   ]
  },
  {
   "cell_type": "code",
   "execution_count": 4,
   "metadata": {},
   "outputs": [],
   "source": [
    "from src.EthTransactions import EthTransactions, TimeSpan, DataFrameFormat\n",
    "\n",
    "DATA_DIR = '/mnt/ssd_large/Ethereum/data'\n",
    "TARGET_DIR = 'data/transactions'\n",
    "BLOCKS = '0_11761677'\n",
    "\n",
    "# load transdactions exported from ethereum-etl\n",
    "eth_transactions = EthTransactions(spark_session, f'{DATA_DIR}/transactions_{BLOCKS}.csv', f'{DATA_DIR}/receipts_{BLOCKS}.csv', prices)\n",
    "\n",
    "# process transactions per day\n",
    "eth_transactions.top_transactions(500, TimeSpan.DAY, f'{TARGET_DIR}/daily_top_{BLOCKS}', DataFrameFormat.PARQUET)\n",
    "eth_transactions.stats(TimeSpan.DAY, f'{TARGET_DIR}/daily_stats_{BLOCKS}', DataFrameFormat.PARQUET)\n",
    "\n",
    "# process transactions per hour\n",
    "eth_transactions.top_transactions(500, TimeSpan.HOUR, f'{TARGET_DIR}/hourly_top_{BLOCKS}', DataFrameFormat.PARQUET)\n",
    "eth_transactions.stats(TimeSpan.HOUR, f'{TARGET_DIR}/hourly_stats_{BLOCKS}', DataFrameFormat.PARQUET)"
   ]
  },
  {
   "cell_type": "code",
   "execution_count": null,
   "metadata": {},
   "outputs": [],
   "source": []
  }
 ],
 "metadata": {
  "kernelspec": {
   "display_name": "tf2.5",
   "language": "python",
   "name": "tf2.5"
  },
  "language_info": {
   "codemirror_mode": {
    "name": "ipython",
    "version": 3
   },
   "file_extension": ".py",
   "mimetype": "text/x-python",
   "name": "python",
   "nbconvert_exporter": "python",
   "pygments_lexer": "ipython3",
   "version": "3.8.3"
  }
 },
 "nbformat": 4,
 "nbformat_minor": 4
}
