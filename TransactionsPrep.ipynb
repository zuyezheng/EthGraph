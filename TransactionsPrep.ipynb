{
 "cells": [
  {
   "cell_type": "code",
   "execution_count": null,
   "metadata": {},
   "outputs": [],
   "source": [
    "\"\"\"\n",
    "ethereumetl export_blocks_and_transactions \\\n",
    "    --transactions-output /mnt/ssd_large/Ethereum/transactions_0_11761677.csv \\\n",
    "    --provider-uri file:///mnt/ssd_raid/Ethereum/geth/geth.ipc \\\n",
    "    --start-block 0 --end-block 11761677 \\\n",
    "    --batch-size 4096 --max-workers 48\n",
    "    \n",
    "ethereumetl export_receipts_and_logs \\\n",
    "    --transaction-hashes transactions_test_hashes.txt \\\n",
    "    --provider-uri file:///ssd_raid/eth/geth.ipc  \\\n",
    "    --receipts-output receipts_test.csv \\\n",
    "    --batch-size 4096 --max-workers 24\n",
    "    \n",
    "ethereumetl export_token_transfers \\\n",
    "    --output token_transfers.csv \\\n",
    "    --provider-uri file:///ssd_raid/eth/geth.ipc \\\n",
    "    --start-block 11358296 --end-block 11358396 \\\n",
    "    --batch-size 4096 --max-workers 24\n",
    "    \n",
    "ethereumetl export_geth_traces \\\n",
    "    --output traces_46147_11358295.csv \\\n",
    "    --provider-uri file:///ssd_raid/eth/geth.ipc \\\n",
    "    --start-block 11358290 --end-block 11358295 \\\n",
    "    --batch-size 4096 --max-workers 48\n",
    "\"\"\""
   ]
  },
  {
   "cell_type": "code",
   "execution_count": 1,
   "metadata": {},
   "outputs": [],
   "source": [
    "import findspark\n",
    "import pyspark\n",
    "from pyspark.context import SparkContext\n",
    "from pyspark.sql.session import SparkSession\n",
    "import pyspark.sql.functions as F\n",
    "import pyspark.sql.types as Types"
   ]
  },
  {
   "cell_type": "code",
   "execution_count": 2,
   "metadata": {},
   "outputs": [],
   "source": [
    "# setup spark for processing transactions\n",
    "findspark.init()\n",
    "spark_conf = pyspark.SparkConf()\\\n",
    "    .setMaster('local[*]')\\\n",
    "    .set('spark.local.dir', '/mnt/scratch_a,/mnt/scratch_b,/mnt/scratch_c')\\\n",
    "    .set('spark.driver.memory', '32g')\\\n",
    "    .setAppName('eth')\n",
    "\n",
    "spark_context = SparkContext(conf=spark_conf)\n",
    "spark_session = SparkSession(spark_context)"
   ]
  },
  {
   "cell_type": "code",
   "execution_count": 3,
   "metadata": {},
   "outputs": [],
   "source": [
    "# ethereum-etl extract_field is slow...\n",
    "transactions = spark_session.read.csv('/mnt/ssd_large/Ethereum/data/transactions_0_11761677.csv', header=True)\n",
    "transaction_hashes = transactions.select('hash')\n",
    "transaction_hashes.write.csv('/mnt/ssd_large/Ethereum/data/transactions_0_11761677_hashes', header=False)"
   ]
  },
  {
   "cell_type": "code",
   "execution_count": 4,
   "metadata": {},
   "outputs": [
    {
     "name": "stdout",
     "output_type": "stream",
     "text": [
      "+-----------------+-----------------+\n",
      "|min(block_number)|max(block_number)|\n",
      "+-----------------+-----------------+\n",
      "|          46147.0|      1.1358295E7|\n",
      "+-----------------+-----------------+\n",
      "\n"
     ]
    }
   ],
   "source": [
    "transactions = spark_session.read.csv('/ssd_raid/eth/etl/train_transactions.csv', header=True)\\\n",
    "    .withColumn('block_number', F.col('block_number').cast(Types.DoubleType()))\n",
    "transactions.agg(F.min(F.col('block_number')), F.max(F.col('block_number'))).show()"
   ]
  },
  {
   "cell_type": "code",
   "execution_count": null,
   "metadata": {},
   "outputs": [],
   "source": []
  }
 ],
 "metadata": {
  "kernelspec": {
   "display_name": "tf2.5",
   "language": "python",
   "name": "tf2.5"
  },
  "language_info": {
   "codemirror_mode": {
    "name": "ipython",
    "version": 3
   },
   "file_extension": ".py",
   "mimetype": "text/x-python",
   "name": "python",
   "nbconvert_exporter": "python",
   "pygments_lexer": "ipython3",
   "version": "3.8.3"
  }
 },
 "nbformat": 4,
 "nbformat_minor": 4
}
